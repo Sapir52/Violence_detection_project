{
 "cells": [
  {
   "cell_type": "code",
   "execution_count": 1,
   "metadata": {},
   "outputs": [],
   "source": [
    "%matplotlib inline\n",
    "import cv2\n",
    "import os\n",
    "import numpy as np\n",
    "import keras\n",
    "import matplotlib.pyplot as plt\n",
    "# import download\n",
    "from random import shuffle\n",
    "from tensorflow.keras.applications import VGG16\n",
    "from tensorflow.keras import backend as K\n",
    "from tensorflow.keras.models import Model, Sequential\n",
    "from tensorflow.keras.layers import Input\n",
    "from tensorflow.keras.layers import LSTM\n",
    "from tensorflow.keras.layers import Dense, Activation\n",
    "import sys\n",
    "import h5py\n",
    "import pandas as pd\n",
    "import os.path\n",
    "from pathlib import Path\n",
    "import math\n",
    "from keras.models import load_model\n",
    "import tensorflow as tf\n",
    "from IPython.display import HTML\n",
    "import seaborn as sns\n",
    "from sklearn.metrics import precision_recall_fscore_support as score\n",
    "from sklearn.datasets import make_classification\n",
    "from sklearn.metrics import accuracy_score, f1_score, precision_score, recall_score, classification_report, confusion_matrix"
   ]
  },
  {
   "cell_type": "code",
   "execution_count": 2,
   "metadata": {},
   "outputs": [],
   "source": [
    "class ViolenceDetection:\n",
    "    def __init__(self,list_clases):\n",
    "        # Number of classes for classification (Violence-No Violence)\n",
    "        self.list_clases=list_clases\n",
    "        \n",
    "    def get_frames(self,current_dir, file_name):\n",
    "        '''\n",
    "        Function used to get 20 frames from a video file and convert the frame to a suitable format for the neural network.\n",
    "        '''\n",
    "        in_file, images  = os.path.join(current_dir, file_name), []\n",
    "        video_capture = cv2.VideoCapture(in_file)\n",
    "        success,image = video_capture.read()\n",
    "        for i in range(20):   \n",
    "            RGB_img = cv2.cvtColor(image, cv2.COLOR_BGR2RGB)\n",
    "            res = cv2.resize(RGB_img, dsize=(224, 224),interpolation=cv2.INTER_CUBIC)\n",
    "            images.append(res)\n",
    "            success,image = video_capture.read()\n",
    "        result = (np.array(images) / 255.).astype(np.float16)\n",
    "        return result\n",
    "    \n",
    "    def label_video_names(self,in_dir):\n",
    "        '''\n",
    "        Function that receives the amount of data downloaded and labels it\n",
    "        '''\n",
    "        # list containing video names, list containin video labels [1, 0] if it has violence and [0, 1] if not\n",
    "        names, labels = [], []    \n",
    "        for current_dir, dir_names,file_names in os.walk(in_dir):\n",
    "            for file_name in file_names:\n",
    "                if file_name[0:2] == 'no':\n",
    "                    labels.append([0,1])\n",
    "                else:\n",
    "                    labels.append([1,0])\n",
    "                names.append(file_name)\n",
    "        data = list(zip(names,labels))\n",
    "        # Suffle the data (names and labels)\n",
    "        shuffle(data)\n",
    "        names, labels = zip(*data)\n",
    "        return names, labels\n",
    "    \n",
    "    \n",
    "    def get_transfer_values(self,current_dir, file_name):\n",
    "        '''\n",
    "        Function to process 20 video frames through VGG16 and get transfer values.\n",
    "        '''\n",
    "        image_batch = self.get_frames(current_dir, file_name)\n",
    "        # Pre-allocate output-array for transfer-values.\n",
    "        # Use 16-bit floating-points to save memory.\n",
    "        shape = (20, transfer_values_size)\n",
    "        transfer_values = np.zeros(shape=shape, dtype=np.float16)\n",
    "        transfer_values = \\\n",
    "        image_model_transfer.predict(image_batch)\n",
    "        return transfer_values\n",
    "    \n",
    "    \n",
    "    def get_transfer(self,image_model):\n",
    "        # Use the output of the layer prior to the final\n",
    "        # classification-layer which is named fc2. This is a fully-connected (or dense) layer.\n",
    "        transfer_layer = image_model.get_layer('fc2')\n",
    "        image_model_transfer = Model(inputs=image_model.input,outputs=transfer_layer.output)\n",
    "        transfer_values_size = K.int_shape(transfer_layer.output)[1]\n",
    "        return image_model_transfer, transfer_values_size\n",
    "    \n",
    "    def proces_transfer(self,vid_names, in_dir, labels):\n",
    "        '''\n",
    "        Generator that process one video through VGG16 each function call.\n",
    "        '''\n",
    "        for count in range(len(vid_names)):\n",
    "            video_name = vid_names[count]    \n",
    "            image_batch = self.get_frames(in_dir, video_name)\n",
    "            shape = (20, transfer_values_size)\n",
    "            transfer_values = np.zeros(shape=shape, dtype=np.float16) \n",
    "            transfer_values = \\\n",
    "            image_model_transfer.predict(image_batch)\n",
    "            yield transfer_values, labels[count] *np.ones([20,2])\n",
    "    \n",
    "    def make_files(self,n_files, file_name_h5py):\n",
    "        '''\n",
    "        Define functions to get the transfer values from VGG16 with defined number of files. \n",
    "        Save the transfer values files used from training in one file and the ones uses for testing in another one.\n",
    "        '''\n",
    "        gen, numer = self.proces_transfer(names_training, in_dir, labels_training), 1\n",
    "        # Read the first chunk to get the column dtypes\n",
    "        chunk = next(gen)\n",
    "        row_count, row_count2 = chunk[0].shape[0], chunk[1].shape[0]\n",
    "        with h5py.File(file_name_h5py, 'w') as f:\n",
    "            # Initialize a resizable dataset to hold the output\n",
    "            maxshape, maxshape2 = (None,) + chunk[0].shape[1:], (None,) + chunk[1].shape[1:]\n",
    "            dset = f.create_dataset('data', shape=chunk[0].shape, maxshape=maxshape,chunks=chunk[0].shape, dtype=chunk[0].dtype)\n",
    "            dset2 = f.create_dataset('labels', shape=chunk[1].shape, maxshape=maxshape2, chunks=chunk[1].shape, dtype=chunk[1].dtype)\n",
    "\n",
    "            # Write the first chunk of rows\n",
    "            dset[:] = chunk[0]\n",
    "            dset2[:] = chunk[1]\n",
    "            for chunk in gen:\n",
    "                if numer == n_files:\n",
    "                    break\n",
    "                # Resize the dataset to accommodate the next chunk of rows\n",
    "                dset.resize(row_count + chunk[0].shape[0], axis=0)\n",
    "                dset2.resize(row_count2 + chunk[1].shape[0], axis=0)\n",
    "                # Write the next chunk\n",
    "                dset[row_count:] = chunk[0]\n",
    "                dset2[row_count:] = chunk[1]\n",
    "                # Increment the row count\n",
    "                row_count += chunk[0].shape[0]\n",
    "                row_count2 += chunk[1].shape[0]\n",
    "                numer += 1\n",
    "                \n",
    "    def process_all_data(self,file_name_h5py):\n",
    "        '''\n",
    "        Load the cached transfer values into memory\n",
    "        '''\n",
    "        joint_transfer, count=[],0\n",
    "        with h5py.File(file_name_h5py, 'r') as f:\n",
    "            X_batch = f['data'][:]\n",
    "            y_batch = f['labels'][:]\n",
    "        for i in range(int(len(X_batch)/20)):\n",
    "            inc = count+20\n",
    "            joint_transfer.append([X_batch[count:inc],y_batch[count]])\n",
    "            count =inc\n",
    "        data, target=[], []\n",
    "        for i in joint_transfer:\n",
    "            data.append(i[0])\n",
    "            target.append(np.array(i[1]))\n",
    "\n",
    "        return data, target\n",
    "    \n",
    "    \n",
    "    def get_model(self):\n",
    "        # Defining the Sequential model\n",
    "        model = Sequential()\n",
    "        #Adding up the layers of the network\n",
    "        model.add(LSTM(512, input_shape=(20, 4096)))\n",
    "        model.add(Dense(1024))\n",
    "        model.add(Activation('relu'))\n",
    "        model.add(Dense(50))\n",
    "        model.add(Activation('sigmoid'))\n",
    "        model.add(Dense(2))\n",
    "        model.add(Activation('softmax'))\n",
    "        #Cmpiling the model\n",
    "        model.compile(loss='binary_crossentropy', optimizer='adam',metrics=['accuracy'])\n",
    "        return model\n",
    "    \n",
    "    def fit_model(self,model):\n",
    "        # This callback allows you to specify the performance measure to monitor, the trigger, and once triggered, it will stop the training process.\n",
    "        # The \"monitor\" allows you to specify the performance measure to monitor in order to end training. \n",
    "        Callback_Stop_Early = tf.keras.callbacks.EarlyStopping(monitor=\"loss\",patience=3)\n",
    "        # Fit model\n",
    "        history = model.fit(np.array(data[0:720]), np.array(target[0:720]), callbacks=Callback_Stop_Early, epochs=200, validation_data=(np.array(data[720:]), np.array(target[720:])),  batch_size=500, verbose=2)\n",
    "        return history\n",
    "        \n",
    "    def save_model(self,history, model):\n",
    "        np.save('data/violence_vedio_history.npy',history.history)\n",
    "        model.save('data/violence_vedio_model.h5')     \n",
    "    \n",
    "    def load_models(self):\n",
    "        model = load_model('data/violence_vedio_model.h5')\n",
    "        history=np.load('data/violence_vedio_history.npy',allow_pickle='TRUE').item()\n",
    "        return model, history\n",
    "    \n",
    "    def show(self,history,name):\n",
    "        # summarize history for accuracy and loss\n",
    "        plt.plot(history[name])\n",
    "        plt.plot(history['val_'+ name])\n",
    "        plt.title('model '+ name)\n",
    "        plt.ylabel(name)\n",
    "        plt.xlabel('epoch')\n",
    "        plt.legend(['train', 'validation'], loc='upper left')\n",
    "        plt.savefig('data/'+ name +'.png')\n",
    "        plt.show()   \n",
    "    \n",
    "    def evaluate(self,model,data_test,target_test):\n",
    "        # Calculating a model evaluation\n",
    "        result = model.evaluate(np.array(data_test), np.array(target_test))\n",
    "        # Calculating a model prediction\n",
    "        pred = model.predict(np.array(data_test))\n",
    "        # Convert the target test vector to a binary list\n",
    "        df=pd.DataFrame([target_test]).T.astype('str')\n",
    "        binary_target=df[0].replace('[1. 0.]',1).replace('[0. 1.]',0).values.tolist()\n",
    "        # Convert the prediction vector to a binary list\n",
    "        binary_predictions = [0 if i[1] >=0.5 else 1 for i in pred]\n",
    "        # Result of the model classification indices\n",
    "        print(\"Accuracy Classifier: {}%\".format(round(accuracy_score(binary_predictions, binary_target)*100,2)))\n",
    "        print(classification_report(binary_predictions, binary_target))\n",
    "        # show confusion_matrix polit\n",
    "        cm=confusion_matrix(binary_predictions, binary_target)\n",
    "        plt.figure(figsize=(6,6))\n",
    "        sns.heatmap(cm, annot=True, fmt='d', xticklabels=['FAKE', 'TRUE'], yticklabels=['FAKE', 'TRUE'], cmap=plt.cm.Blues, cbar=False)\n",
    "        plt.xlabel('Predicted Label')\n",
    "        plt.ylabel('True Label')\n",
    "        plt.title('CNN+LSTM')\n",
    "        plt.savefig('data/CNN+LSTM.png')\n",
    "        plt.show()\n",
    "\n",
    "    def check_test(self,data_test):\n",
    "        # A function that returns the test prediction\n",
    "        prediction = model.predict(np.array(data_test))\n",
    "        queue=[]\n",
    "        queue.append(prediction)\n",
    "        results = np.array(queue).mean(axis=1)\n",
    "        print(results)\n",
    "        predict_class = self.list_clases[np.argmax(results)]\n",
    "        print('Test prediction is: ',predict_class)\n",
    "\n",
    "        \n",
    "    def check_vedio(self,in_dir, name_vedio):\n",
    "        # Function that returns to a specific video. Is there violence and non-violence\n",
    "        vec_transfer= self.get_transfer_values(in_dir,name_vedio)\n",
    "        vec_test, queue=[], []\n",
    "        vec_test.append(vec_transfer)\n",
    "        # Prediction of the video\n",
    "        prediction = model.predict(np.array(np.array(vec_test)))\n",
    "        # The result of the prediction by class\n",
    "        queue.append(prediction)\n",
    "        results = np.array(queue).mean(axis=1)\n",
    "        predict_class = self.list_clases[np.argmax(results)]\n",
    "        # Create a data frame with the results\n",
    "        temp_data=prediction.flatten().tolist()\n",
    "        temp_data.append(predict_class)\n",
    "        df_res= pd.DataFrame([temp_data], columns=['NonViolence','Violence', 'prediction'])\n",
    "        df_res=df_res.rename(index={0: \"result\"})\n",
    "        return df_res\n",
    "    \n"
   ]
  },
  {
   "cell_type": "code",
   "execution_count": 3,
   "metadata": {},
   "outputs": [],
   "source": [
    "#Number of classes for classification \n",
    "list_clases=['NonViolence', 'Violence']\n",
    "obj=ViolenceDetection(list_clases)\n",
    "#Define the directory to place the video dataset\n",
    "in_dir = \"dataset_vedio/\"\n",
    "# Get the names and labels of the whole videos\n",
    "names, labels = obj.label_video_names(in_dir)"
   ]
  },
  {
   "cell_type": "code",
   "execution_count": 4,
   "metadata": {},
   "outputs": [
    {
     "data": {
      "text/plain": [
       "('fi136_xvid.avi',\n",
       " 'no492_xvid.avi',\n",
       " 'no495_xvid.avi',\n",
       " 'no352_xvid.avi',\n",
       " 'no220_xvid.avi')"
      ]
     },
     "execution_count": 4,
     "metadata": {},
     "output_type": "execute_result"
    }
   ],
   "source": [
    "# list containing video names\n",
    "names[:5]"
   ]
  },
  {
   "cell_type": "code",
   "execution_count": 5,
   "metadata": {},
   "outputs": [
    {
     "data": {
      "text/plain": [
       "([1, 0], [0, 1], [0, 1], [0, 1], [0, 1])"
      ]
     },
     "execution_count": 5,
     "metadata": {},
     "output_type": "execute_result"
    }
   ],
   "source": [
    "#list containin video labels [1, 0] if it has violence and [0, 1] if not\n",
    "labels[:5]"
   ]
  },
  {
   "cell_type": "code",
   "execution_count": 6,
   "metadata": {},
   "outputs": [
    {
     "name": "stdout",
     "output_type": "stream",
     "text": [
      "Model: \"vgg16\"\n",
      "_________________________________________________________________\n",
      "Layer (type)                 Output Shape              Param #   \n",
      "=================================================================\n",
      "input_1 (InputLayer)         [(None, 224, 224, 3)]     0         \n",
      "_________________________________________________________________\n",
      "block1_conv1 (Conv2D)        (None, 224, 224, 64)      1792      \n",
      "_________________________________________________________________\n",
      "block1_conv2 (Conv2D)        (None, 224, 224, 64)      36928     \n",
      "_________________________________________________________________\n",
      "block1_pool (MaxPooling2D)   (None, 112, 112, 64)      0         \n",
      "_________________________________________________________________\n",
      "block2_conv1 (Conv2D)        (None, 112, 112, 128)     73856     \n",
      "_________________________________________________________________\n",
      "block2_conv2 (Conv2D)        (None, 112, 112, 128)     147584    \n",
      "_________________________________________________________________\n",
      "block2_pool (MaxPooling2D)   (None, 56, 56, 128)       0         \n",
      "_________________________________________________________________\n",
      "block3_conv1 (Conv2D)        (None, 56, 56, 256)       295168    \n",
      "_________________________________________________________________\n",
      "block3_conv2 (Conv2D)        (None, 56, 56, 256)       590080    \n",
      "_________________________________________________________________\n",
      "block3_conv3 (Conv2D)        (None, 56, 56, 256)       590080    \n",
      "_________________________________________________________________\n",
      "block3_pool (MaxPooling2D)   (None, 28, 28, 256)       0         \n",
      "_________________________________________________________________\n",
      "block4_conv1 (Conv2D)        (None, 28, 28, 512)       1180160   \n",
      "_________________________________________________________________\n",
      "block4_conv2 (Conv2D)        (None, 28, 28, 512)       2359808   \n",
      "_________________________________________________________________\n",
      "block4_conv3 (Conv2D)        (None, 28, 28, 512)       2359808   \n",
      "_________________________________________________________________\n",
      "block4_pool (MaxPooling2D)   (None, 14, 14, 512)       0         \n",
      "_________________________________________________________________\n",
      "block5_conv1 (Conv2D)        (None, 14, 14, 512)       2359808   \n",
      "_________________________________________________________________\n",
      "block5_conv2 (Conv2D)        (None, 14, 14, 512)       2359808   \n",
      "_________________________________________________________________\n",
      "block5_conv3 (Conv2D)        (None, 14, 14, 512)       2359808   \n",
      "_________________________________________________________________\n",
      "block5_pool (MaxPooling2D)   (None, 7, 7, 512)         0         \n",
      "_________________________________________________________________\n",
      "flatten (Flatten)            (None, 25088)             0         \n",
      "_________________________________________________________________\n",
      "fc1 (Dense)                  (None, 4096)              102764544 \n",
      "_________________________________________________________________\n",
      "fc2 (Dense)                  (None, 4096)              16781312  \n",
      "_________________________________________________________________\n",
      "predictions (Dense)          (None, 1000)              4097000   \n",
      "=================================================================\n",
      "Total params: 138,357,544\n",
      "Trainable params: 138,357,544\n",
      "Non-trainable params: 0\n",
      "_________________________________________________________________\n"
     ]
    }
   ],
   "source": [
    "# Pretrained model: VGG16\n",
    "# Create an instance of the pre-trained VGG16 model\n",
    "image_model = VGG16(include_top=True, weights='imagenet')\n",
    "# Printing out the image_model summary\n",
    "image_model.summary()"
   ]
  },
  {
   "cell_type": "code",
   "execution_count": 7,
   "metadata": {},
   "outputs": [],
   "source": [
    "image_model_transfer, transfer_values_size= obj.get_transfer(image_model)"
   ]
  },
  {
   "cell_type": "code",
   "execution_count": 8,
   "metadata": {},
   "outputs": [],
   "source": [
    "# Split the dataset into training set and test set\n",
    "training_set = int(len(names)*0.8)\n",
    "test_set = int(len(names)*0.2)\n",
    "# Perform division into train and test of names\n",
    "names_training = names[0:training_set]\n",
    "names_test = names[training_set:]\n",
    "# Perform division into train and test of labels\n",
    "labels_training = labels[0:training_set]\n",
    "labels_test = labels[training_set:]"
   ]
  },
  {
   "cell_type": "code",
   "execution_count": 9,
   "metadata": {},
   "outputs": [],
   "source": [
    "# Process all video frames through VGG16 and save the transfer values.\n",
    "obj.make_files(training_set, 'data/train.h5')\n",
    "obj.make_files(test_set, 'data/test.h5')"
   ]
  },
  {
   "cell_type": "code",
   "execution_count": 10,
   "metadata": {},
   "outputs": [],
   "source": [
    "# Load the cached transfer values into memory\n",
    "data, target = obj.process_all_data('data/train.h5')\n",
    "data_test, target_test = obj.process_all_data('data/test.h5')"
   ]
  },
  {
   "cell_type": "code",
   "execution_count": 11,
   "metadata": {},
   "outputs": [
    {
     "name": "stdout",
     "output_type": "stream",
     "text": [
      "Model: \"sequential\"\n",
      "_________________________________________________________________\n",
      "Layer (type)                 Output Shape              Param #   \n",
      "=================================================================\n",
      "lstm (LSTM)                  (None, 512)               9439232   \n",
      "_________________________________________________________________\n",
      "dense (Dense)                (None, 1024)              525312    \n",
      "_________________________________________________________________\n",
      "activation (Activation)      (None, 1024)              0         \n",
      "_________________________________________________________________\n",
      "dense_1 (Dense)              (None, 50)                51250     \n",
      "_________________________________________________________________\n",
      "activation_1 (Activation)    (None, 50)                0         \n",
      "_________________________________________________________________\n",
      "dense_2 (Dense)              (None, 2)                 102       \n",
      "_________________________________________________________________\n",
      "activation_2 (Activation)    (None, 2)                 0         \n",
      "=================================================================\n",
      "Total params: 10,015,896\n",
      "Trainable params: 10,015,896\n",
      "Non-trainable params: 0\n",
      "_________________________________________________________________\n"
     ]
    }
   ],
   "source": [
    "model=obj.get_model()\n",
    "history=obj.fit_model(model)\n",
    "obj.save_model(history, model)\n",
    "model, history=obj.load_models()\n",
    "#Printing out the model summary\n",
    "model.summary()"
   ]
  },
  {
   "cell_type": "code",
   "execution_count": 12,
   "metadata": {},
   "outputs": [
    {
     "name": "stdout",
     "output_type": "stream",
     "text": [
      "[[0.4379362 0.5620638]]\n",
      "Test prediction is:  Violence\n"
     ]
    }
   ],
   "source": [
    "obj.check_test(data_test)"
   ]
  },
  {
   "cell_type": "code",
   "execution_count": 13,
   "metadata": {},
   "outputs": [
    {
     "name": "stdout",
     "output_type": "stream",
     "text": [
      "7/7 [==============================] - 6s 228ms/step - loss: 0.2335 - accuracy: 0.9250\n",
      "Accuracy Classifier: 92.5%\n",
      "              precision    recall  f1-score   support\n",
      "\n",
      "           0       0.95      0.91      0.93       112\n",
      "           1       0.89      0.94      0.92        88\n",
      "\n",
      "    accuracy                           0.93       200\n",
      "   macro avg       0.92      0.93      0.92       200\n",
      "weighted avg       0.93      0.93      0.93       200\n",
      "\n"
     ]
    },
    {
     "data": {
      "image/png": "[encoded data removed]",
      "text/plain": [
       "<Figure size 432x432 with 1 Axes>"
      ]
     },
     "metadata": {
      "needs_background": "light"
     },
     "output_type": "display_data"
    }
   ],
   "source": [
    "obj.evaluate(model,data_test,target_test)"
   ]
  },
  {
   "cell_type": "code",
   "execution_count": 14,
   "metadata": {},
   "outputs": [
    {
     "data": {
      "image/png": "[encoded data removed]",
      "text/plain": [
       "<Figure size 432x288 with 1 Axes>"
      ]
     },
     "metadata": {
      "needs_background": "light"
     },
     "output_type": "display_data"
    }
   ],
   "source": [
    "# summarize history for accuracy\n",
    "obj.show(history,'accuracy')"
   ]
  },
  {
   "cell_type": "code",
   "execution_count": 15,
   "metadata": {},
   "outputs": [
    {
     "data": {
      "image/png": "[encoded data removed]",
      "text/plain": [
       "<Figure size 432x288 with 1 Axes>"
      ]
     },
     "metadata": {
      "needs_background": "light"
     },
     "output_type": "display_data"
    }
   ],
   "source": [
    "# summarize history for loss\n",
    "obj.show(history,'loss')"
   ]
  },
  {
   "cell_type": "code",
   "execution_count": 16,
   "metadata": {},
   "outputs": [
    {
     "name": "stdout",
     "output_type": "stream",
     "text": [
      "        NonViolence  Violence prediction\n",
      "result     0.162076  0.837924   Violence\n"
     ]
    },
    {
     "data": {
      "text/html": [
       "\n",
       "    <video alt=\"test\" width=\"300\" height=\"300\" controls>\n",
       "        <source src=\"datatest_vedio/violence.mp4\" type=\"video/mp4\">\n",
       "    </video>\n"
      ],
      "text/plain": [
       "<IPython.core.display.HTML object>"
      ]
     },
     "execution_count": 16,
     "metadata": {},
     "output_type": "execute_result"
    }
   ],
   "source": [
    "print(obj.check_vedio('datatest_vedio','violence.avi'))\n",
    "HTML(\"\"\"\n",
    "    <video alt=\"test\" width=\"300\" height=\"300\" controls>\n",
    "        <source src=\"datatest_vedio/violence.mp4\" type=\"video/mp4\">\n",
    "    </video>\n",
    "\"\"\")\n"
   ]
  },
  {
   "cell_type": "code",
   "execution_count": 17,
   "metadata": {},
   "outputs": [
    {
     "name": "stdout",
     "output_type": "stream",
     "text": [
      "        NonViolence  Violence   prediction\n",
      "result     0.996211  0.003789  NonViolence\n"
     ]
    },
    {
     "data": {
      "text/html": [
       "\n",
       "    <video alt=\"test\" width=\"300\" height=\"300\" controls>\n",
       "        <source src=\"datatest_vedio/noViolence.mp4\" type=\"video/mp4\">\n",
       "    </video>\n"
      ],
      "text/plain": [
       "<IPython.core.display.HTML object>"
      ]
     },
     "execution_count": 17,
     "metadata": {},
     "output_type": "execute_result"
    }
   ],
   "source": [
    "print(obj.check_vedio('datatest_vedio','noViolence.avi'))\n",
    "HTML(\"\"\"\n",
    "    <video alt=\"test\" width=\"300\" height=\"300\" controls>\n",
    "        <source src=\"datatest_vedio/noViolence.mp4\" type=\"video/mp4\">\n",
    "    </video>\n",
    "\"\"\")"
   ]
  },
  {
   "cell_type": "code",
   "execution_count": 18,
   "metadata": {},
   "outputs": [
    {
     "name": "stdout",
     "output_type": "stream",
     "text": [
      "        NonViolence  Violence   prediction\n",
      "result     0.996783  0.003217  NonViolence\n"
     ]
    },
    {
     "data": {
      "text/html": [
       "\n",
       "    <video alt=\"test\" width=\"300\" height=\"300\" controls>\n",
       "        <source src=\"datatest_vedio/holo_noViolence.mp4\" type=\"video/mp4\">\n",
       "    </video>\n"
      ],
      "text/plain": [
       "<IPython.core.display.HTML object>"
      ]
     },
     "execution_count": 18,
     "metadata": {},
     "output_type": "execute_result"
    }
   ],
   "source": [
    "print(obj.check_vedio('datatest_vedio','holo_noViolence.avi'))\n",
    "HTML(\"\"\"\n",
    "    <video alt=\"test\" width=\"300\" height=\"300\" controls>\n",
    "        <source src=\"datatest_vedio/holo_noViolence.mp4\" type=\"video/mp4\">\n",
    "    </video>\n",
    "\"\"\")"
   ]
  }
 ],
 "metadata": {
  "kernelspec": {
   "display_name": "Python 3",
   "language": "python",
   "name": "python3"
  },
  "language_info": {
   "codemirror_mode": {
    "name": "ipython",
    "version": 3
   },
   "file_extension": ".py",
   "mimetype": "text/x-python",
   "name": "python",
   "nbconvert_exporter": "python",
   "pygments_lexer": "ipython3",
   "version": "3.8.5"
  }
 },
 "nbformat": 4,
 "nbformat_minor": 4
}
